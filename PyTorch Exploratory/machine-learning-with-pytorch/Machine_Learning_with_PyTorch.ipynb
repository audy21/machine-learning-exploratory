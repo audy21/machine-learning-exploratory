{
 "cells": [
  {
   "cell_type": "markdown",
   "id": "ab578808",
   "metadata": {},
   "source": [
    "# **Machine Learning with PyTorch**"
   ]
  },
  {
   "cell_type": "markdown",
   "id": "b6a601cd",
   "metadata": {},
   "source": [
    "## Objectives\n",
    "\n",
    "After completing this lab you will be able to:\n",
    "\n",
    " - Install necessary PyTorch libraries;\n",
    " - Use PyTorch to build, train and evaluate neural networks.\n",
    " - Save the trained model parameters and use them later for inferencing."
   ]
  },
  {
   "cell_type": "markdown",
   "id": "2c51f1d4",
   "metadata": {},
   "source": [
    "## Setup\n",
    "\n",
    "For this lab, we will be using the following libraries:\n",
    "\n",
    "*   [`torch`](https://pytorch.org/docs/stable/library.html?utm_medium=Exinfluencer&utm_source=Exinfluencer&utm_content=000026UJ&utm_term=10006555&utm_id=NA-SkillsNetwork-Channel-SkillsNetworkGuidedProjectsIBMDeveloperGPXX0W98EN3615-2023-01-01)\n",
    "*   [`TorchVision`](https://pytorch.org/vision/stable/index.html?utm_medium=Exinfluencer&utm_source=Exinfluencer&utm_content=000026UJ&utm_term=10006555&utm_id=NA-SkillsNetwork-Channel-SkillsNetworkGuidedProjectsIBMDeveloperGPXX0W98EN3615-2023-01-01)\n"
   ]
  },
  {
   "cell_type": "markdown",
   "id": "ab49c7cb",
   "metadata": {},
   "source": [
    "### Importing Required Libraries\n",
    "\n",
    "_We recommend you import all required libraries in one place (here):_\n"
   ]
  },
  {
   "cell_type": "code",
   "execution_count": 1,
   "id": "1479fc05",
   "metadata": {},
   "outputs": [],
   "source": [
    "import torch\n",
    "from torch import nn\n",
    "from torch.utils.data import DataLoader\n",
    "from torchvision import datasets\n",
    "from torchvision.transforms import ToTensor"
   ]
  },
  {
   "cell_type": "markdown",
   "id": "c1afe2fe",
   "metadata": {},
   "source": [
    "## How does this lab work?\n",
    " \n",
    "The lab uses MNIST datasets. The dataset has over 60,000 images of hand written digits. The data will be partitioned between training the AI model and testing the AI model after training.\n",
    "\n",
    "The main steps in this project include:\n",
    "\n",
    " 1. Download the MNIST dataset and create a DataLoader for the dataset.\n",
    " 2. Define an AI model to recognize a hand written digit.\n",
    " 3. Train the defined AI model using training data from the MNIST dataset.\n",
    " 4. Test the trained AI model using testing data from the MNIST dataset.\n",
    " 5. Evaluate\n"
   ]
  },
  {
   "cell_type": "markdown",
   "id": "f392fe66",
   "metadata": {},
   "source": [
    "## Download Dataset and Create Data Loader\n",
    "\n",
    "The images are 28x28 pixel images of digits 0 through 9."
   ]
  },
  {
   "cell_type": "code",
   "execution_count": 2,
   "id": "32955abf",
   "metadata": {},
   "outputs": [
    {
     "name": "stderr",
     "output_type": "stream",
     "text": [
      "100%|██████████| 9.91M/9.91M [00:23<00:00, 419kB/s]\n",
      "100%|██████████| 28.9k/28.9k [00:00<00:00, 119kB/s]\n",
      "100%|██████████| 1.65M/1.65M [00:03<00:00, 490kB/s] \n",
      "100%|██████████| 4.54k/4.54k [00:00<00:00, 2.79MB/s]"
     ]
    },
    {
     "name": "stdout",
     "output_type": "stream",
     "text": [
      "Training data size: 60032\n",
      "Test data size: 10048\n",
      "Shape of X [N, C, H, W]: torch.Size([64, 1, 28, 28])\n",
      "Shape of y: torch.Size([64]) torch.int64\n"
     ]
    },
    {
     "name": "stderr",
     "output_type": "stream",
     "text": [
      "\n"
     ]
    }
   ],
   "source": [
    "# Download training data from MNIST datasets.\n",
    "training_data = datasets.MNIST(\n",
    "    root=\"data\",\n",
    "    train=True,\n",
    "    download=True,\n",
    "    transform=ToTensor(),\n",
    ")\n",
    "\n",
    "# Download test data from open datasets.\n",
    "test_data = datasets.MNIST(\n",
    "    root=\"data\",\n",
    "    train=False,\n",
    "    download=True,\n",
    "    transform=ToTensor(),\n",
    ")\n",
    "\n",
    "batch_size = 64\n",
    "\n",
    "# Create data loaders to iterate over data\n",
    "train_dataloader = DataLoader(training_data, batch_size=batch_size)\n",
    "test_dataloader = DataLoader(test_data, batch_size=batch_size)\n",
    "\n",
    "print(\"Training data size:\", len(train_dataloader) * batch_size)\n",
    "print(\"Test data size:\", len(test_dataloader) * batch_size)\n",
    "\n",
    "for X, y in test_dataloader:\n",
    "    print(f\"Shape of X [N, C, H, W]: {X.shape}\")\n",
    "    print(f\"Shape of y: {y.shape} {y.dtype}\")\n",
    "    break"
   ]
  },
  {
   "cell_type": "markdown",
   "id": "135d6be3",
   "metadata": {},
   "source": [
    "# Define Model\n",
    "\n",
    "We first determine the best device for performing training with cpu as the default device.\n",
    "\n",
    "We then define the AI model as a neural network with 3 layers: an input layer, a hidden layer, and an output layer. Between the layers, we use a ReLU activation function.\n",
    "\n",
    "Since the input images are 1x28x28 tensors, we need to flatten the input tensors into a 784 element tensor using the Flatten module before passing the input into our neural network."
   ]
  },
  {
   "cell_type": "code",
   "execution_count": 4,
   "id": "87369840",
   "metadata": {},
   "outputs": [
    {
     "name": "stdout",
     "output_type": "stream",
     "text": [
      "Using mps device\n",
      "NeuralNetwork(\n",
      "  (flatten): Flatten(start_dim=1, end_dim=-1)\n",
      "  (linear_relu_stack): Sequential(\n",
      "    (0): Linear(in_features=784, out_features=512, bias=True)\n",
      "    (1): ReLU()\n",
      "    (2): Linear(in_features=512, out_features=512, bias=True)\n",
      "    (3): ReLU()\n",
      "    (4): Linear(in_features=512, out_features=10, bias=True)\n",
      "  )\n",
      ")\n"
     ]
    }
   ],
   "source": [
    "# Get device for training.\n",
    "device = torch.device(\n",
    "    \"cuda\" if torch.cuda.is_available()\n",
    "    else \"mps\" if torch.backends.mps.is_available() # Apple Silicon GPU\n",
    "    else \"cpu\"\n",
    ")\n",
    "print(f\"Using {device} device\")\n",
    "\n",
    "# Define model\n",
    "class NeuralNetwork(nn.Module):\n",
    "    def __init__(self, input_size, hidden_size, num_classes):\n",
    "        super().__init__()\n",
    "        self.flatten = nn.Flatten()\n",
    "        self.linear_relu_stack = nn.Sequential(\n",
    "            nn.Linear(input_size, hidden_size),\n",
    "            nn.ReLU(),\n",
    "            nn.Linear(hidden_size, hidden_size),\n",
    "            nn.ReLU(),\n",
    "            nn.Linear(hidden_size, num_classes)\n",
    "        )\n",
    "\n",
    "    def forward(self, image_tensor):\n",
    "        image_tensor = self.flatten(image_tensor)\n",
    "        logits = self.linear_relu_stack(image_tensor)\n",
    "        return logits\n",
    "\n",
    "input_size = 28*28\n",
    "hidden_size = 512\n",
    "num_classes = 10\n",
    "\n",
    "model = NeuralNetwork(input_size, hidden_size, num_classes).to(device)\n",
    "print(model)"
   ]
  },
  {
   "cell_type": "markdown",
   "id": "281df2e8",
   "metadata": {},
   "source": [
    "## Training loop\n",
    "\n",
    "We implement a training function to use with the train_dataloader to train our model. Each iteration over the dataloader returns a batch_size image data tensor along with the expected output. After moving the tensors to the device, we call the forward pass of our model, compute the prediction error using the expected output and then call the backwards pass to compute the gradients and apply them to the model parameters.\n"
   ]
  },
  {
   "cell_type": "code",
   "execution_count": 5,
   "id": "337aaf68",
   "metadata": {},
   "outputs": [],
   "source": [
    "# Define our learning rate, loss function and optimizer\n",
    "learning_rate = 1e-3 # 0.001\n",
    "loss_fn = nn.CrossEntropyLoss()\n",
    "optimizer = torch.optim.Adam(model.parameters(), lr=learning_rate)\n",
    "\n",
    "# Let's define our training function \n",
    "def train(dataloader, model, loss_fn, optimizer):\n",
    "    size = len(dataloader.dataset)\n",
    "    model.train()\n",
    "\n",
    "    for batch_num, (X, y) in enumerate(dataloader):\n",
    "        X, y = X.to(device), y.to(device)\n",
    "\n",
    "        # Forward pass to compute prediction\n",
    "        pred = model(X)\n",
    "        # Compute prediction error using loss function\n",
    "        loss = loss_fn(pred, y)\n",
    "\n",
    "        # Backward pass\n",
    "        optimizer.zero_grad() # zero any previous gradient calculations\n",
    "        loss.backward() # calculate gradient\n",
    "        optimizer.step() # update model parameters\n",
    "        \n",
    "        if batch_num > 0 and batch_num % 100 == 0:\n",
    "            loss, current = loss.item(), batch_num * len(X)\n",
    "            print(f\"loss: {loss:>7f}  [{current:>5d}/{size:>5d}]\")"
   ]
  },
  {
   "cell_type": "markdown",
   "id": "c96c38cc",
   "metadata": {},
   "source": [
    "## Test Loop\n",
    "\n",
    "The test methods evaluates the model's predictive performance using the test_dataloader. During testing, we don't require gradient computation, so we set the model in evaluate mode."
   ]
  },
  {
   "cell_type": "code",
   "execution_count": 6,
   "id": "cb043e13",
   "metadata": {},
   "outputs": [],
   "source": [
    "# Our test function\n",
    "def test(dataloader, model, loss_fn):\n",
    "    size = len(dataloader.dataset)\n",
    "    num_batches = len(dataloader)\n",
    "    model.eval()\n",
    "    test_loss, correct = 0, 0\n",
    "    for X, y in dataloader:\n",
    "        X, y = X.to(device), y.to(device)\n",
    "        pred = model(X)\n",
    "        test_loss += loss_fn(pred, y).item()\n",
    "        correct += (pred.argmax(1) == y).type(torch.float).sum().item()\n",
    "    test_loss /= num_batches\n",
    "    correct /= size\n",
    "    print(f\"Test Error: \\n Accuracy: {(100*correct):>0.1f}%, Avg loss: {test_loss:>8f} \\n\")"
   ]
  },
  {
   "cell_type": "markdown",
   "id": "675e1ed9",
   "metadata": {},
   "source": [
    "## Train the Model\n",
    "\n",
    "Now that we have defined methods to train our model and test the trained model's predictive behavior, lets train the model for 5 epochs over the dataset."
   ]
  },
  {
   "cell_type": "code",
   "execution_count": 7,
   "id": "d69a61cc",
   "metadata": {},
   "outputs": [
    {
     "name": "stdout",
     "output_type": "stream",
     "text": [
      "Epoch 1\n",
      "-------------------------------\n",
      "loss: 0.281907  [ 6400/60000]\n",
      "loss: 0.191535  [12800/60000]\n",
      "loss: 0.258605  [19200/60000]\n",
      "loss: 0.123900  [25600/60000]\n",
      "loss: 0.349285  [32000/60000]\n",
      "loss: 0.129252  [38400/60000]\n",
      "loss: 0.250050  [44800/60000]\n",
      "loss: 0.264754  [51200/60000]\n",
      "loss: 0.179037  [57600/60000]\n",
      "Test Error: \n",
      " Accuracy: 95.4%, Avg loss: 0.143778 \n",
      "\n",
      "Epoch 2\n",
      "-------------------------------\n",
      "loss: 0.070296  [ 6400/60000]\n",
      "loss: 0.090632  [12800/60000]\n",
      "loss: 0.082379  [19200/60000]\n",
      "loss: 0.061669  [25600/60000]\n",
      "loss: 0.096763  [32000/60000]\n",
      "loss: 0.051683  [38400/60000]\n",
      "loss: 0.141014  [44800/60000]\n",
      "loss: 0.129761  [51200/60000]\n",
      "loss: 0.168046  [57600/60000]\n",
      "Test Error: \n",
      " Accuracy: 96.7%, Avg loss: 0.100150 \n",
      "\n",
      "Epoch 3\n",
      "-------------------------------\n",
      "loss: 0.046972  [ 6400/60000]\n",
      "loss: 0.060594  [12800/60000]\n",
      "loss: 0.120412  [19200/60000]\n",
      "loss: 0.062676  [25600/60000]\n",
      "loss: 0.082716  [32000/60000]\n",
      "loss: 0.045890  [38400/60000]\n",
      "loss: 0.088081  [44800/60000]\n",
      "loss: 0.088178  [51200/60000]\n",
      "loss: 0.055348  [57600/60000]\n",
      "Test Error: \n",
      " Accuracy: 97.0%, Avg loss: 0.104760 \n",
      "\n",
      "Epoch 4\n",
      "-------------------------------\n",
      "loss: 0.023289  [ 6400/60000]\n",
      "loss: 0.039964  [12800/60000]\n",
      "loss: 0.118467  [19200/60000]\n",
      "loss: 0.052395  [25600/60000]\n",
      "loss: 0.071357  [32000/60000]\n",
      "loss: 0.023277  [38400/60000]\n",
      "loss: 0.031357  [44800/60000]\n",
      "loss: 0.150665  [51200/60000]\n",
      "loss: 0.036375  [57600/60000]\n",
      "Test Error: \n",
      " Accuracy: 97.4%, Avg loss: 0.095925 \n",
      "\n",
      "Epoch 5\n",
      "-------------------------------\n",
      "loss: 0.061549  [ 6400/60000]\n",
      "loss: 0.067435  [12800/60000]\n",
      "loss: 0.080702  [19200/60000]\n",
      "loss: 0.094752  [25600/60000]\n",
      "loss: 0.064451  [32000/60000]\n",
      "loss: 0.009598  [38400/60000]\n",
      "loss: 0.010758  [44800/60000]\n",
      "loss: 0.039807  [51200/60000]\n",
      "loss: 0.057595  [57600/60000]\n",
      "Test Error: \n",
      " Accuracy: 97.7%, Avg loss: 0.088501 \n",
      "\n",
      "Done!\n"
     ]
    }
   ],
   "source": [
    "# Let's run training\n",
    "epochs = 5\n",
    "for t in range(epochs):\n",
    "    print(f\"Epoch {t+1}\\n-------------------------------\")\n",
    "    train(train_dataloader, model, loss_fn, optimizer)\n",
    "    test(test_dataloader, model, loss_fn)\n",
    "print(\"Done!\")"
   ]
  },
  {
   "cell_type": "markdown",
   "id": "762a168d",
   "metadata": {},
   "source": [
    "# Save the model and make predictions\n",
    "\n",
    "Once we have a trained model, we can save the model parameters for future use in inferences. Here we save the state_dict of the model which contains the trained parameters. We then create a new instance of the model and load the previously saved parameters into the new instance of the model. Finally we can inference using the new instance of the model."
   ]
  },
  {
   "cell_type": "code",
   "execution_count": 8,
   "id": "1bb8c32f",
   "metadata": {},
   "outputs": [
    {
     "name": "stdout",
     "output_type": "stream",
     "text": [
      "Saved PyTorch Model State to ml_with_pytorch_model.pth\n",
      "Predicted: \"7\", Actual: \"7\"\n",
      "Predicted: \"2\", Actual: \"2\"\n",
      "Predicted: \"1\", Actual: \"1\"\n",
      "Predicted: \"0\", Actual: \"0\"\n",
      "Predicted: \"4\", Actual: \"4\"\n",
      "Predicted: \"1\", Actual: \"1\"\n",
      "Predicted: \"4\", Actual: \"4\"\n",
      "Predicted: \"9\", Actual: \"9\"\n",
      "Predicted: \"5\", Actual: \"5\"\n",
      "Predicted: \"9\", Actual: \"9\"\n"
     ]
    }
   ],
   "source": [
    "# Save our model parameters\n",
    "torch.save(model.state_dict(), \"ml_with_pytorch_model.pth\")\n",
    "print(\"Saved PyTorch Model State to ml_with_pytorch_model.pth\")\n",
    "\n",
    "# Load the saved model parameters into a new instance of the model\n",
    "model = NeuralNetwork(input_size, hidden_size, num_classes).to(device)\n",
    "model.load_state_dict(torch.load(\"ml_with_pytorch_model.pth\"))\n",
    "\n",
    "# Inference using the new model instance\n",
    "model.eval()\n",
    "for i in range(10):\n",
    "    x, y = test_data[i][0], test_data[i][1]\n",
    "\n",
    "    x = x.to(device)\n",
    "    pred = model(x)\n",
    "    predicted, actual = pred[0].argmax(0).item(), y\n",
    "    print(f'Predicted: \"{predicted}\", Actual: \"{actual}\"')"
   ]
  }
 ],
 "metadata": {
  "kernelspec": {
   "display_name": "base",
   "language": "python",
   "name": "python3"
  },
  "language_info": {
   "codemirror_mode": {
    "name": "ipython",
    "version": 3
   },
   "file_extension": ".py",
   "mimetype": "text/x-python",
   "name": "python",
   "nbconvert_exporter": "python",
   "pygments_lexer": "ipython3",
   "version": "3.12.4"
  }
 },
 "nbformat": 4,
 "nbformat_minor": 5
}
