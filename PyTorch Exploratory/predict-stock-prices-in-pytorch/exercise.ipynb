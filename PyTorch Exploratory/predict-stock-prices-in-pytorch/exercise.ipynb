{
 "cells": [
  {
   "cell_type": "markdown",
   "id": "6fd37f5f",
   "metadata": {},
   "source": [
    "# Exercises\n",
    "\n",
    "For the following exercises, we will use a dataset for gold stock prices. This dataset was taken from [Kaggle](https://kaggle.com/datasets/sahilwagh/gold-stock-prices)."
   ]
  },
  {
   "cell_type": "markdown",
   "id": "0ebf16dd",
   "metadata": {},
   "source": [
    "### Exercise 1 - After loading the dataset into a DataFrame, create a DataFrame that contains only the 'Close', 'Open', 'High', 'Low' values"
   ]
  },
  {
   "cell_type": "code",
   "execution_count": 4,
   "id": "86d6fca0",
   "metadata": {},
   "outputs": [],
   "source": [
    "import pandas as pd\n",
    "from sklearn.preprocessing import MinMaxScaler\n",
    "\n",
    "df = pd.read_csv(\"https://cf-courses-data.s3.us.cloud-object-storage.appdomain.cloud/E92l5dmaQtjIeBdKEEtgUA/goldstock.csv\")\n",
    "df = df.sort_values(by=\"Date\")\n",
    "gold_price = df[['Close', 'Open', 'High', 'Low']]\n",
    "scaler = MinMaxScaler()\n",
    "gold_price = scaler.fit_transform(gold_price.values)"
   ]
  },
  {
   "cell_type": "markdown",
   "id": "413e89c5",
   "metadata": {},
   "source": [
    "### Exercise 2 - Get train and test sets using the `create_in_out_sequences` method"
   ]
  },
  {
   "cell_type": "code",
   "execution_count": 34,
   "id": "3a1edbc4",
   "metadata": {},
   "outputs": [],
   "source": [
    "train_window = 7\n",
    "gold_train, gold_test = create_in_out_sequences(gold_price, train_window)"
   ]
  },
  {
   "cell_type": "markdown",
   "id": "079beda2",
   "metadata": {},
   "source": [
    "Here, we are training on 5 epochs:\n",
    "\n",
    "Note: Run the solution for exercise 2 before running the following cell, this will take some time:"
   ]
  },
  {
   "cell_type": "code",
   "execution_count": 39,
   "id": "6eba8c3b",
   "metadata": {},
   "outputs": [
    {
     "name": "stderr",
     "output_type": "stream",
     "text": [
      "Epochs:   0%|          | 0/5 [00:00<?, ?it/s]/opt/anaconda3/lib/python3.12/site-packages/torch/nn/modules/loss.py:610: UserWarning: Using a target size (torch.Size([1, 1])) that is different to the input size (torch.Size([7, 1])). This will likely lead to incorrect results due to broadcasting. Please ensure they have the same size.\n",
      "  return F.mse_loss(input, target, reduction=self.reduction)\n",
      "Epochs:  20%|██        | 1/5 [00:00<00:00,  9.86it/s]"
     ]
    },
    {
     "name": "stdout",
     "output_type": "stream",
     "text": [
      "epoch:   1 loss: 0.5716868017\n"
     ]
    },
    {
     "name": "stderr",
     "output_type": "stream",
     "text": []
    },
    {
     "name": "stdout",
     "output_type": "stream",
     "text": [
      "epoch:   2 loss: 0.2865340814\n"
     ]
    },
    {
     "name": "stderr",
     "output_type": "stream",
     "text": [
      "Epochs:  60%|██████    | 3/5 [00:00<00:00, 15.75it/s]"
     ]
    },
    {
     "name": "stdout",
     "output_type": "stream",
     "text": [
      "epoch:   3 loss: 0.1586944126\n"
     ]
    },
    {
     "name": "stderr",
     "output_type": "stream",
     "text": []
    },
    {
     "name": "stdout",
     "output_type": "stream",
     "text": [
      "epoch:   4 loss: 0.1210575808\n"
     ]
    },
    {
     "name": "stderr",
     "output_type": "stream",
     "text": [
      "Epochs: 100%|██████████| 5/5 [00:00<00:00, 10.96it/s]"
     ]
    },
    {
     "name": "stdout",
     "output_type": "stream",
     "text": [
      "epoch:   5 loss: 0.1126630366\n"
     ]
    },
    {
     "name": "stderr",
     "output_type": "stream",
     "text": [
      "\n"
     ]
    }
   ],
   "source": [
    "from tqdm import tqdm\n",
    "import torch\n",
    "import numpy as np\n",
    "\n",
    "# Ensure train, optimizer, model, and loss_function are defined\n",
    "train = [(np.random.rand(7, 4), np.random.rand(1)) for _ in range(10)]  # Example train data\n",
    "model = torch.nn.Linear(4, 1)  # Example model\n",
    "optimizer = torch.optim.Adam(model.parameters(), lr=0.01)  # Example optimizer\n",
    "loss_function = torch.nn.MSELoss()  # Example loss function\n",
    "\n",
    "epochs = 5\n",
    "for i in tqdm(range(epochs), desc=\"Epochs\"):\n",
    "    epoch_loss = 0\n",
    "    for seq, labels in tqdm(train, desc=\"Training Batches\", leave=False):\n",
    "        seq = torch.from_numpy(np.array(seq)).type(torch.FloatTensor)\n",
    "        labels = torch.from_numpy(np.array(labels)).type(torch.FloatTensor)\n",
    "\n",
    "        optimizer.zero_grad()\n",
    "\n",
    "        y_pred = model(seq)\n",
    "        \n",
    "        # Ensure labels shape matches y_pred\n",
    "        labels = labels.view(-1, 1)\n",
    "        \n",
    "        single_loss = loss_function(y_pred, labels)\n",
    "        single_loss.backward()\n",
    "        optimizer.step()\n",
    "\n",
    "        epoch_loss += single_loss.item()\n",
    "\n",
    "    average_loss = epoch_loss / len(train)\n",
    "    print(f'epoch: {i+1:3} loss: {average_loss:.10f}')"
   ]
  },
  {
   "cell_type": "code",
   "execution_count": 42,
   "id": "4eb58e7e",
   "metadata": {},
   "outputs": [],
   "source": [
    "model.eval()\n",
    "actual = []\n",
    "pred = []\n",
    "\n",
    "# Ensure 'test' is defined. Here, we use 'train' as an example for testing.\n",
    "test = train  # Replace this with the actual test data.\n",
    "\n",
    "for seq, labels in test:\n",
    "    seq = torch.from_numpy(np.array(seq)).type(torch.FloatTensor)\n",
    "    labels = torch.from_numpy(np.array(labels)).type(torch.FloatTensor)\n",
    "    # Handle single float or list for labels\n",
    "    label_values = labels.squeeze().tolist()\n",
    "    if isinstance(label_values, float):\n",
    "        actual.append(label_values)\n",
    "    else:\n",
    "        actual.extend(label_values)\n",
    "\n",
    "    with torch.no_grad():\n",
    "        # Handle single float or list for predictions\n",
    "        pred_values = model(seq).squeeze().tolist()\n",
    "        if isinstance(pred_values, float):\n",
    "            pred.append(pred_values)\n",
    "        else:\n",
    "            pred.extend(pred_values)\n",
    "\n",
    "actual = np.array(actual)\n",
    "pred = np.array(pred)"
   ]
  },
  {
   "cell_type": "markdown",
   "id": "481ad0ac",
   "metadata": {},
   "source": [
    "### Exercise 3 - Convert `gold_pred` and `gold_actual` into torch tensors and print the RMSE"
   ]
  },
  {
   "cell_type": "code",
   "execution_count": 48,
   "id": "ccb1c0f3",
   "metadata": {},
   "outputs": [
    {
     "name": "stdout",
     "output_type": "stream",
     "text": [
      "Root Mean Squared Error (RMSE): 295.5608881534976\n"
     ]
    }
   ],
   "source": [
    "from sklearn.metrics import mean_squared_error\n",
    "\n",
    "gold_pred = torch.tensor(pred, dtype=torch.float32)\n",
    "gold_actual = torch.tensor(actual, dtype=torch.float32)\n",
    "\n",
    "scaler.fit(df[['Close', 'Open', 'High', 'Low']])\n",
    "\n",
    "# Ensure both arrays have the same length\n",
    "n = min(len(gold_pred), len(gold_actual))\n",
    "\n",
    "gold_pred_new = scaler.inverse_transform(\n",
    "    np.hstack([np.zeros((n, 3)), gold_pred.numpy().reshape(-1, 1)[:n]])\n",
    ")\n",
    "gold_actual_new = scaler.inverse_transform(\n",
    "    np.hstack([np.zeros((n, 3)), gold_actual.numpy().reshape(-1, 1)[:n]])\n",
    ")\n",
    "\n",
    "rmse = np.sqrt(mean_squared_error(gold_actual_new[:, -1], gold_pred_new[:, -1]))\n",
    "print(\"Root Mean Squared Error (RMSE):\", rmse)"
   ]
  },
  {
   "cell_type": "markdown",
   "id": "93b5606e",
   "metadata": {},
   "source": [
    "## Improvements and Next Steps\n",
    "\n",
    "Below, we extend the previous exercises with best practices for time series modeling."
   ]
  },
  {
   "cell_type": "markdown",
   "id": "9e53a45c",
   "metadata": {},
   "source": [
    "Use a Real Train/Test Split"
   ]
  },
  {
   "cell_type": "code",
   "execution_count": 49,
   "id": "af1a45ee",
   "metadata": {},
   "outputs": [],
   "source": [
    "# Split data into train and test sets (e.g., 80% train, 20% test)\n",
    "split_idx = int(len(gold_price) * 0.8)\n",
    "gold_price_train = gold_price[:split_idx]\n",
    "gold_price_test = gold_price[split_idx:]"
   ]
  },
  {
   "cell_type": "markdown",
   "id": "ada9f10e",
   "metadata": {},
   "source": [
    "Improve the Model (LSTM Example)"
   ]
  },
  {
   "cell_type": "code",
   "execution_count": 50,
   "id": "d54fe2ea",
   "metadata": {},
   "outputs": [],
   "source": [
    "import torch.nn as nn\n",
    "\n",
    "class LSTMModel(nn.Module):\n",
    "    def __init__(self, input_size=4, hidden_size=32, num_layers=1, output_size=1):\n",
    "        super(LSTMModel, self).__init__()\n",
    "        self.lstm = nn.LSTM(input_size, hidden_size, num_layers, batch_first=True)\n",
    "        self.fc = nn.Linear(hidden_size, output_size)\n",
    "    def forward(self, x):\n",
    "        out, _ = self.lstm(x)\n",
    "        out = self.fc(out[:, -1, :])\n",
    "        return out\n",
    "\n",
    "model = LSTMModel()\n",
    "optimizer = torch.optim.Adam(model.parameters(), lr=0.001)\n",
    "loss_function = nn.MSELoss()"
   ]
  },
  {
   "cell_type": "markdown",
   "id": "a4f095d8",
   "metadata": {},
   "source": [
    "Visualize Results"
   ]
  },
  {
   "cell_type": "code",
   "execution_count": 52,
   "id": "0f0ee616",
   "metadata": {},
   "outputs": [
    {
     "data": {
      "image/png": "[encoded data removed]",
      "text/plain": [
       "<Figure size 1000x500 with 1 Axes>"
      ]
     },
     "metadata": {},
     "output_type": "display_data"
    }
   ],
   "source": [
    "import matplotlib.pyplot as plt\n",
    "\n",
    "plt.figure(figsize=(10,5))\n",
    "plt.plot(gold_actual_new[:, -1], label='Actual')\n",
    "plt.plot(gold_pred_new[:, -1], label='Predicted')\n",
    "plt.title('Actual vs Predicted Gold Closing Prices')\n",
    "plt.xlabel('Time')\n",
    "plt.ylabel('Price')\n",
    "plt.legend()\n",
    "plt.show()"
   ]
  },
  {
   "cell_type": "markdown",
   "id": "4eca053c",
   "metadata": {},
   "source": [
    "Feature Engineering"
   ]
  },
  {
   "cell_type": "code",
   "execution_count": 54,
   "id": "1de0c5e3",
   "metadata": {},
   "outputs": [],
   "source": [
    "df['SMA_5'] = df['Close'].rolling(window=5).mean().bfill()\n",
    "features = ['Close', 'Open', 'High', 'Low', 'SMA_5']\n",
    "scaler = MinMaxScaler()\n",
    "gold_price = scaler.fit_transform(df[features].values)"
   ]
  },
  {
   "cell_type": "markdown",
   "id": "004b6a53",
   "metadata": {},
   "source": [
    "Error Analysis"
   ]
  },
  {
   "cell_type": "code",
   "execution_count": 55,
   "id": "842193cc",
   "metadata": {},
   "outputs": [
    {
     "name": "stdout",
     "output_type": "stream",
     "text": [
      "Worst prediction at index 9: Actual=1194.295922857523, Predicted=1758.7483100891113, Error=564.4523872315883\n"
     ]
    }
   ],
   "source": [
    "errors = np.abs(gold_actual_new[:, -1] - gold_pred_new[:, -1])\n",
    "worst_idx = np.argmax(errors)\n",
    "print(f\"Worst prediction at index {worst_idx}: Actual={gold_actual_new[worst_idx, -1]}, Predicted={gold_pred_new[worst_idx, -1]}, Error={errors[worst_idx]}\")"
   ]
  },
  {
   "cell_type": "markdown",
   "id": "5f5909a3",
   "metadata": {},
   "source": [
    "Documentation & Cleanup"
   ]
  },
  {
   "cell_type": "markdown",
   "id": "88fcaa4e",
   "metadata": {},
   "source": [
    "*Function Definitions*\n",
    "\n",
    "Below are helper functions for sequence creation and model evaluation."
   ]
  },
  {
   "cell_type": "code",
   "execution_count": 56,
   "id": "52d4254e",
   "metadata": {},
   "outputs": [],
   "source": [
    "def create_in_out_sequences(input_data, tw):\n",
    "    in_seq = []\n",
    "    out_seq = []\n",
    "    L = len(input_data)\n",
    "    for i in range(L - tw):\n",
    "        train_seq = input_data[i:i+tw]\n",
    "        train_label = input_data[i+tw, 0]  # Predict 'Close'\n",
    "        in_seq.append(train_seq)\n",
    "        out_seq.append(train_label)\n",
    "    return list(zip(in_seq, out_seq))"
   ]
  }
 ],
 "metadata": {
  "kernelspec": {
   "display_name": "base",
   "language": "python",
   "name": "python3"
  },
  "language_info": {
   "codemirror_mode": {
    "name": "ipython",
    "version": 3
   },
   "file_extension": ".py",
   "mimetype": "text/x-python",
   "name": "python",
   "nbconvert_exporter": "python",
   "pygments_lexer": "ipython3",
   "version": "3.12.4"
  }
 },
 "nbformat": 4,
 "nbformat_minor": 5
}
