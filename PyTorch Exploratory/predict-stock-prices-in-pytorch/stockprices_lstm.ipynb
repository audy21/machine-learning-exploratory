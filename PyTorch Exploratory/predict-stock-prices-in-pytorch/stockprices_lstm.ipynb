{
 "cells": [
  {
   "cell_type": "markdown",
   "id": "bfcebb94",
   "metadata": {},
   "source": [
    "# **Predict stock prices with LSTM in PyTorch**\n"
   ]
  },
  {
   "cell_type": "markdown",
   "id": "eaaecd4c",
   "metadata": {},
   "source": [
    "This guided project is based off of the [Build a recurrent neural network using Pytorch](https://developer.ibm.com/tutorials/build-a-recurrent-neural-network-pytorch/?mhsrc=ibmsearch_a&mhq=#learning-objectives0) tutorial on [IBM Developer](https://developer.ibm.com/), authored by Dhivya Lakshminarayanan and Samaya Madhavan.\n"
   ]
  },
  {
   "cell_type": "markdown",
   "id": "71c3a607",
   "metadata": {},
   "source": [
    "In this guided project, your goal is to create a basic model that can predict a stock's value using daily Open, High, Low, and Close values. Because the stock market can be extremely volatile, there are many factors that can influence and contribute to a stock's value. This tutorial uses the following parameters for the stock data.\n",
    "\n",
    "- **Open**: The stock's price when the market opens.\n",
    "- **High**: The highest price at which a stock is trading during market hours.\n",
    "- **Low**: The lowest price at which a stock is trading during market hours.\n",
    "- **Close**: The stock's price when the market closes. This price is used by financial institutions as the value of a stock on a particular day because it takes into consideration all of the day's events and any fluctuations that might have occurred during the market.\n",
    "\n",
    "The overall importance of the Close value and its use as a benchmark for a stock's daily value indicates that this value is the one to use in the prediction. To accomplish this, you can build a model that uses Long Short-Term Memory (LSTM), an RNN technique, to store and analyze large sets of time series data.\n"
   ]
  },
  {
   "cell_type": "markdown",
   "id": "0f5c7aa9",
   "metadata": {},
   "source": [
    "## Introduction\n",
    "### Recurrent neural network\n",
    "*<strong>Recurrent neural networks</strong>*, or RNNs, are widely used in a variety of mediums. RNNs leverage sequential data to make predictions. **Sequential memory** makes it easier for the neural network to recognize patterns and replicate the input. To achieve learning through sequential memory, a **feedforward neural network** with looping mechanisms is implemented. \n",
    "\n",
    "There are *three* types of layers: **input, hidden, and output**. There are loops that pass previous information forward, allowing the model to *sequentially* store and learn the data. The complexity of a hidden state is based on how much “historic” information is being stored, it is a representation of all previous steps. When training a model, once there is a prediction from a given output, a **loss function** is used to determine the error between the predicted output and real output. The model is trained through back propagation. The weight of each node in the neural network is adjusted with their corresponding gradient that is calculated during **back propagation**. \n",
    "\n",
    "\n",
    "The advantage of using sequential data to successfully predict certain outcomes is especially relevant when analyzing **time series data**. "
   ]
  },
  {
   "cell_type": "markdown",
   "id": "b2ef7c39",
   "metadata": {},
   "source": [
    "### [Long Short-Term Memory](https://ieeexplore.ieee.org/abstract/document/6795963)\n",
    "\n",
    "Recurrent backpropagation can be very time-consuming due to insufficient and decaying error backflow. To solve this issue, a type of RNN called **Long Short-Term Memory (LSTM)** is used. [**LSTMs**](https://developer.ibm.com/tutorials/iot-deep-learning-anomaly-detection-1/) are able to keep track of long term dependencies by using gradients to modify the model, rather than backpropogations. These attributes are especially advantageous when examining **time series data**. The more historical data there is, the better the model can train, producing the most accurate outputs. \n",
    "\n",
    "An LSTM has an internal state variable that is modified based on weights and biases through operation gates. Traditionally, an LSTM is comprised of three operation gates: the forget gate, input gate, and output gate. The architecture of long-short term memory is dependent on $tanh$ and $sigmoid$ functions implemented in the network. The $tanh$ function ensures that the values in the network remain between -1 and 1 while the $sigmoid$ function regulates whether data should be remembered or forgotten. Furthermore, \n",
    "\n",
    "The mathematical representations of each gate are as follows:\n",
    "\n",
    "<strong>Forget Gate</strong>: $$f_t = \\sigma(w_f*[h_{t-1},x_t] + b_f)$$\n",
    "\n",
    "<strong>Input Gate</strong>: $$i_t = \\sigma(w_f*[h_{t-1},x_t] + b_i)$$\n",
    "\n",
    "<strong>Output Gate</strong>: $$O_t = \\sigma(w_f*[h_{t-1},x_t] + b_o)$$\n",
    "\n",
    "Where:  \n",
    "* $w_f$ = weight matrix between forget and input gate\n",
    "* $h_{t-1}$ = previous hidden state\n",
    "* $x_t$ = input\n",
    "* $b_f$ = connection bias at forget gate \n",
    "* $b_i$ = connection bias at input gate \n",
    "* $b_o$ = connection bias at output gate \n",
    "* $\\sigma$ = the sigmoid function\n",
    "\n",
    "Each gate modifies the input in a different way. The forget gate determines what data is relevant to keep and what information can be \"forgotten\". The input gate analyzes what information needs to be added to the current step, and the output gate finalizes the proceeding hidden state. Each of these gates allows for sequential data to be efficiently stored and analyzed, allowing for an accurate predictive model to be developed. \n",
    "\n",
    "[***Source:** *S. Hochreiter and J. Schmidhuber, \"Long Short-Term Memory,\" in Neural Computation, vol. 9, no. 8, pp. 1735-1780, 15 Nov. 1997, doi: 10.1162/neco.1997.9.8.1735.*](https://ieeexplore.ieee.org/abstract/document/6795963)"
   ]
  },
  {
   "cell_type": "markdown",
   "id": "59c3e5e0",
   "metadata": {},
   "source": [
    "## Objectives\n",
    "\n",
    "After completing this lab, you are able to:\n",
    "\n",
    " - Build an LSTM using PyTorch.\n",
    " - Train an LSTM model and evaluate the model with metrics such as mean squared error."
   ]
  },
  {
   "cell_type": "markdown",
   "id": "8c205c8d",
   "metadata": {},
   "source": [
    "----"
   ]
  },
  {
   "cell_type": "markdown",
   "id": "fc573b9b",
   "metadata": {},
   "source": [
    "## Setup\n",
    "For this lab, you use the following libraries:\n",
    "\n",
    "*   [`pandas`](https://pandas.pydata.org/?utm_medium=Exinfluencer&utm_source=Exinfluencer&utm_content=000026UJ&utm_term=10006555&utm_id=NA-SkillsNetwork-Channel-SkillsNetworkCoursesIBMML0187ENSkillsNetwork31430127-2021-01-01) for managing the data.\n",
    "*   [`numpy`](https://numpy.org/?utm_medium=Exinfluencer&utm_source=Exinfluencer&utm_content=000026UJ&utm_term=10006555&utm_id=NA-SkillsNetwork-Channel-SkillsNetworkCoursesIBMML0187ENSkillsNetwork31430127-2021-01-01) for mathematical operations.\n",
    "*   [`sklearn`](https://scikit-learn.org/stable/?utm_medium=Exinfluencer&utm_source=Exinfluencer&utm_content=000026UJ&utm_term=10006555&utm_id=NA-SkillsNetwork-Channel-SkillsNetworkCoursesIBMML0187ENSkillsNetwork31430127-2021-01-01) for machine learning and machine-learning-pipeline related functions.\n",
    "*   [`pytorch`](https://pytorch.org/docs/stable/torch.html) to train and build the layers of neural networks.\n",
    "*   [`seaborn`](https://seaborn.pydata.org/?utm_medium=Exinfluencer&utm_source=Exinfluencer&utm_content=000026UJ&utm_term=10006555&utm_id=NA-SkillsNetwork-Channel-SkillsNetworkCoursesIBMML0187ENSkillsNetwork31430127-2021-01-01) for visualizing the data.\n",
    "*   [`matplotlib`](https://matplotlib.org/?utm_medium=Exinfluencer&utm_source=Exinfluencer&utm_content=000026UJ&utm_term=10006555&utm_id=NA-SkillsNetwork-Channel-SkillsNetworkCoursesIBMML0187ENSkillsNetwork31430127-2021-01-01) for additional plotting tools.\n"
   ]
  },
  {
   "cell_type": "markdown",
   "id": "8e0c7f27",
   "metadata": {},
   "source": [
    "### Installing required libraries\n",
    "The following required libraries are __not__ pre-installed in the Skills Network Labs environment. __You must run the following cell__ to install them:"
   ]
  },
  {
   "cell_type": "code",
   "execution_count": 1,
   "id": "a4b45da0",
   "metadata": {},
   "outputs": [],
   "source": [
    "%%capture\n",
    "%pip install torch==\"2.3.0\"\n",
    "%pip install pandas==\"2.2.2\"\n",
    "%pip install matplotlib==\"3.8.4\"\n",
    "%pip install scikit-learn==\"1.4.2\""
   ]
  },
  {
   "cell_type": "markdown",
   "id": "49dd08fb",
   "metadata": {},
   "source": [
    "### Importing required libraries\n",
    "\n",
    "*This step could take **several minutes**, please be patient.*"
   ]
  },
  {
   "cell_type": "code",
   "execution_count": 2,
   "id": "98955f37",
   "metadata": {},
   "outputs": [],
   "source": [
    "import torch\n",
    "from torch import nn\n",
    "import matplotlib.pyplot as plt\n",
    "import pandas as pd"
   ]
  },
  {
   "cell_type": "markdown",
   "id": "d380b203",
   "metadata": {},
   "source": [
    "## Read and load the data\n",
    "\n",
    "We will be loading a dataset on stock prices using daily Open, High, Low, and Close values."
   ]
  },
  {
   "cell_type": "code",
   "execution_count": 3,
   "id": "bda1fab3",
   "metadata": {},
   "outputs": [],
   "source": [
    "df = pd.read_csv(\"https://cf-courses-data.s3.us.cloud-object-storage.appdomain.cloud/g5XM0-gTrOquyZcBxcJAfw/StockData.csv\")\n",
    "df.drop(['Unnamed: 0'], axis=1, inplace=True)"
   ]
  },
  {
   "cell_type": "code",
   "execution_count": 4,
   "id": "a4660afe",
   "metadata": {},
   "outputs": [
    {
     "data": {
      "application/vnd.microsoft.datawrangler.viewer.v0+json": {
       "columns": [
        {
         "name": "index",
         "rawType": "int64",
         "type": "integer"
        },
        {
         "name": "Date",
         "rawType": "object",
         "type": "string"
        },
        {
         "name": "Open",
         "rawType": "float64",
         "type": "float"
        },
        {
         "name": "High",
         "rawType": "float64",
         "type": "float"
        },
        {
         "name": "Low",
         "rawType": "float64",
         "type": "float"
        },
        {
         "name": "Close",
         "rawType": "float64",
         "type": "float"
        }
       ],
       "conversionMethod": "pd.DataFrame",
       "ref": "2f0b0e0b-545d-4f0b-8036-379e21555efd",
       "rows": [
        [
         "0",
         "2018-03-27",
         "173.68",
         "175.15",
         "166.92",
         "168.34"
        ],
        [
         "1",
         "2018-03-26",
         "168.07",
         "173.1",
         "166.44",
         "172.77"
        ],
        [
         "2",
         "2018-03-23",
         "168.39",
         "169.92",
         "164.94",
         "164.94"
        ],
        [
         "3",
         "2018-03-22",
         "170.0",
         "172.68",
         "168.6",
         "168.845"
        ],
        [
         "4",
         "2018-03-21",
         "175.04",
         "175.09",
         "171.26",
         "171.27"
        ]
       ],
       "shape": {
        "columns": 5,
        "rows": 5
       }
      },
      "text/html": [
       "<div>\n",
       "<style scoped>\n",
       "    .dataframe tbody tr th:only-of-type {\n",
       "        vertical-align: middle;\n",
       "    }\n",
       "\n",
       "    .dataframe tbody tr th {\n",
       "        vertical-align: top;\n",
       "    }\n",
       "\n",
       "    .dataframe thead th {\n",
       "        text-align: right;\n",
       "    }\n",
       "</style>\n",
       "<table border=\"1\" class=\"dataframe\">\n",
       "  <thead>\n",
       "    <tr style=\"text-align: right;\">\n",
       "      <th></th>\n",
       "      <th>Date</th>\n",
       "      <th>Open</th>\n",
       "      <th>High</th>\n",
       "      <th>Low</th>\n",
       "      <th>Close</th>\n",
       "    </tr>\n",
       "  </thead>\n",
       "  <tbody>\n",
       "    <tr>\n",
       "      <th>0</th>\n",
       "      <td>2018-03-27</td>\n",
       "      <td>173.68</td>\n",
       "      <td>175.15</td>\n",
       "      <td>166.92</td>\n",
       "      <td>168.340</td>\n",
       "    </tr>\n",
       "    <tr>\n",
       "      <th>1</th>\n",
       "      <td>2018-03-26</td>\n",
       "      <td>168.07</td>\n",
       "      <td>173.10</td>\n",
       "      <td>166.44</td>\n",
       "      <td>172.770</td>\n",
       "    </tr>\n",
       "    <tr>\n",
       "      <th>2</th>\n",
       "      <td>2018-03-23</td>\n",
       "      <td>168.39</td>\n",
       "      <td>169.92</td>\n",
       "      <td>164.94</td>\n",
       "      <td>164.940</td>\n",
       "    </tr>\n",
       "    <tr>\n",
       "      <th>3</th>\n",
       "      <td>2018-03-22</td>\n",
       "      <td>170.00</td>\n",
       "      <td>172.68</td>\n",
       "      <td>168.60</td>\n",
       "      <td>168.845</td>\n",
       "    </tr>\n",
       "    <tr>\n",
       "      <th>4</th>\n",
       "      <td>2018-03-21</td>\n",
       "      <td>175.04</td>\n",
       "      <td>175.09</td>\n",
       "      <td>171.26</td>\n",
       "      <td>171.270</td>\n",
       "    </tr>\n",
       "  </tbody>\n",
       "</table>\n",
       "</div>"
      ],
      "text/plain": [
       "         Date    Open    High     Low    Close\n",
       "0  2018-03-27  173.68  175.15  166.92  168.340\n",
       "1  2018-03-26  168.07  173.10  166.44  172.770\n",
       "2  2018-03-23  168.39  169.92  164.94  164.940\n",
       "3  2018-03-22  170.00  172.68  168.60  168.845\n",
       "4  2018-03-21  175.04  175.09  171.26  171.270"
      ]
     },
     "execution_count": 4,
     "metadata": {},
     "output_type": "execute_result"
    }
   ],
   "source": [
    "df.head()"
   ]
  },
  {
   "cell_type": "markdown",
   "id": "3a0a82dc",
   "metadata": {},
   "source": [
    "First, let examine the data."
   ]
  },
  {
   "cell_type": "code",
   "execution_count": 5,
   "id": "4af49e02",
   "metadata": {},
   "outputs": [
    {
     "name": "stdout",
     "output_type": "stream",
     "text": [
      "Information about the dataset\n",
      "<class 'pandas.core.frame.DataFrame'>\n",
      "RangeIndex: 9400 entries, 0 to 9399\n",
      "Data columns (total 5 columns):\n",
      " #   Column  Non-Null Count  Dtype         \n",
      "---  ------  --------------  -----         \n",
      " 0   Date    9400 non-null   datetime64[ns]\n",
      " 1   Open    9400 non-null   float64       \n",
      " 2   High    9400 non-null   float64       \n",
      " 3   Low     9400 non-null   float64       \n",
      " 4   Close   9400 non-null   float64       \n",
      "dtypes: datetime64[ns](1), float64(4)\n",
      "memory usage: 367.3 KB\n",
      "None\n"
     ]
    }
   ],
   "source": [
    "stock_data = df\n",
    "# Convert the date column into a Datetime object:\n",
    "stock_data['Date'] = pd.to_datetime(df.Date)\n",
    "print(\"Information about the dataset\", end = \"\\n\")\n",
    "print(stock_data.info())"
   ]
  },
  {
   "cell_type": "markdown",
   "id": "569b7d38",
   "metadata": {},
   "source": [
    "We can see that there are a total of 5 columns, the columns we want to input into the model are the last four columns: index 1-4.\n",
    "\n",
    "By printing the first and last 5 elements, we can see that the data is in inverse order. The most recent data stored at the beginning of the set and the oldest data is at the end. For our model, we need to input the data from oldest to most recent. The Pandas method \"sort_values\" can be used to sort the data in chronological order."
   ]
  },
  {
   "cell_type": "code",
   "execution_count": 6,
   "id": "9756def9",
   "metadata": {},
   "outputs": [
    {
     "name": "stdout",
     "output_type": "stream",
     "text": [
      "First five elements in the dataset\n",
      "        Date    Open    High     Low    Close\n",
      "0 2018-03-27  173.68  175.15  166.92  168.340\n",
      "1 2018-03-26  168.07  173.10  166.44  172.770\n",
      "2 2018-03-23  168.39  169.92  164.94  164.940\n",
      "3 2018-03-22  170.00  172.68  168.60  168.845\n",
      "4 2018-03-21  175.04  175.09  171.26  171.270\n",
      "Last five elements in the dataset\n",
      "           Date   Open   High    Low  Close\n",
      "9395 1980-12-18  26.63  26.75  26.63  26.63\n",
      "9396 1980-12-17  25.87  26.00  25.87  25.87\n",
      "9397 1980-12-16  25.37  25.37  25.25  25.25\n",
      "9398 1980-12-15  27.38  27.38  27.25  27.25\n",
      "9399 1980-12-12  28.75  28.87  28.75  28.75\n"
     ]
    }
   ],
   "source": [
    "print(\"First five elements in the dataset\", end = \"\\n\")\n",
    "print(stock_data.head(5))\n",
    "print(\"Last five elements in the dataset\", end = \"\\n\")\n",
    "print(stock_data.tail(5))"
   ]
  },
  {
   "cell_type": "markdown",
   "id": "1811f08f",
   "metadata": {},
   "source": [
    "After applying the \"sort_values\" method, we can use the \"head\" method to print the first five data points. Our data is now in the correct order.  "
   ]
  },
  {
   "cell_type": "code",
   "execution_count": 7,
   "id": "68246d0a",
   "metadata": {},
   "outputs": [
    {
     "name": "stdout",
     "output_type": "stream",
     "text": [
      "           Date   Open   High    Low  Close\n",
      "9399 1980-12-12  28.75  28.87  28.75  28.75\n",
      "9398 1980-12-15  27.38  27.38  27.25  27.25\n",
      "9397 1980-12-16  25.37  25.37  25.25  25.25\n",
      "9396 1980-12-17  25.87  26.00  25.87  25.87\n",
      "9395 1980-12-18  26.63  26.75  26.63  26.63\n"
     ]
    }
   ],
   "source": [
    "stock_data = stock_data.sort_values(by=\"Date\")\n",
    "print(stock_data.head())"
   ]
  },
  {
   "cell_type": "markdown",
   "id": "d1244565",
   "metadata": {},
   "source": [
    "To create the multivariate model, we can create an array containing only the variables we want to input. We no longer need the date or index column as the data has already been ordered."
   ]
  },
  {
   "cell_type": "markdown",
   "id": "a867c79b",
   "metadata": {},
   "source": [
    "## Scale the data"
   ]
  },
  {
   "cell_type": "code",
   "execution_count": 8,
   "id": "33f68ee1",
   "metadata": {},
   "outputs": [
    {
     "name": "stdout",
     "output_type": "stream",
     "text": [
      "       High    Low   Open  Close\n",
      "9399  28.87  28.75  28.75  28.75\n",
      "9398  27.38  27.25  27.38  27.25\n",
      "9397  25.37  25.25  25.37  25.25\n",
      "9396  26.00  25.87  25.87  25.87\n",
      "9395  26.75  26.63  26.63  26.63\n"
     ]
    }
   ],
   "source": [
    "from sklearn.preprocessing import MinMaxScaler\n",
    "price = stock_data[['High','Low','Open','Close']]\n",
    "print(price[:5])"
   ]
  },
  {
   "cell_type": "markdown",
   "id": "9b668f24",
   "metadata": {},
   "source": [
    "After we have isolated the target variables, the next step is to normalize the values by representing them as a value between -1 and 1. This allows us to make the data uniform. This means, irrespective of the range it falls under, each data point will have the same impact on the model. \n",
    "\n",
    "Note that normally, we should not expose the test data to the scaler. However, the scaler is just a min max scaler, so the only pertinent information that is leaked are the highest and lowest stock prices. In this case, we can assume that it has negligible effect."
   ]
  },
  {
   "cell_type": "code",
   "execution_count": 9,
   "id": "feebb021",
   "metadata": {},
   "outputs": [
    {
     "name": "stdout",
     "output_type": "stream",
     "text": [
      "[[-0.94884358 -0.94844388 -0.94899391 -0.94863261]\n",
      " [-0.95313783 -0.95280073 -0.95295751 -0.95297352]\n",
      " [-0.95893076 -0.95860987 -0.95877273 -0.95876139]\n",
      " [-0.95711507 -0.95680904 -0.95732616 -0.95696715]\n",
      " [-0.95495353 -0.95460157 -0.95512737 -0.95476776]]\n"
     ]
    }
   ],
   "source": [
    "scaler = MinMaxScaler(feature_range=(-1, 1))\n",
    "price = scaler.fit_transform(price.values)\n",
    "print(price[:5])"
   ]
  },
  {
   "cell_type": "markdown",
   "id": "c50819c6",
   "metadata": {},
   "source": [
    "## Create test and training sets\n",
    "\n",
    "Below, we have defined our train window as 7."
   ]
  },
  {
   "cell_type": "code",
   "execution_count": 10,
   "id": "02853dc8",
   "metadata": {},
   "outputs": [
    {
     "name": "stdout",
     "output_type": "stream",
     "text": [
      "Length =  9400\n",
      "size of data :  9393\n",
      "size of test :  20\n",
      "size of train :  9373\n"
     ]
    }
   ],
   "source": [
    "train_window = 7\n",
    "import numpy as np\n",
    "def create_in_out_sequences(price, tw):\n",
    "    inout_seq = []\n",
    "    L = len(price)\n",
    "    print('Length = ', L)\n",
    "    \n",
    "    for i in range(L-tw):\n",
    "        data_seq = price[i:i+tw]\n",
    "        data_label = price[i+tw:i+tw+1][0][3]\n",
    "        inout_seq.append((data_seq ,data_label))\n",
    "    \n",
    "    data = inout_seq;\n",
    "    print('size of data : ', len(data))\n",
    "    \n",
    "    test_set_size = 20\n",
    "    train_set_size = len(data) - (test_set_size);\n",
    "    print('size of test : ', test_set_size)\n",
    "    print('size of train : ', train_set_size)\n",
    "    \n",
    "    train = data[:train_set_size]\n",
    "    test = data[train_set_size:]\n",
    "    train = train[:-(tw-1)]\n",
    "    return train, test\n",
    "    \n",
    "train,test = create_in_out_sequences(price, train_window)"
   ]
  },
  {
   "cell_type": "markdown",
   "id": "d47aa2e1",
   "metadata": {},
   "source": [
    "The `create_in_out_sequences` method creates labels for the dataset and isolates the datapoints we are inputting into the model, taking into account the training and test size and returns the training and test sets.\n",
    "\n",
    "Let us print the first five elements of the test data and the last five elements of the train set to confirm its formatting."
   ]
  },
  {
   "cell_type": "code",
   "execution_count": 11,
   "id": "e8922523",
   "metadata": {},
   "outputs": [
    {
     "name": "stdout",
     "output_type": "stream",
     "text": [
      "(array([[-0.52820808, -0.53303223, -0.53350981, -0.53283172],\n",
      "       [-0.52982203, -0.53404883, -0.53440669, -0.5345102 ],\n",
      "       [-0.53022552, -0.5352397 , -0.53215004, -0.53676747],\n",
      "       [-0.53071547, -0.5332065 , -0.53512997, -0.53233975],\n",
      "       [-0.52581598, -0.52789114, -0.5297198 , -0.52378816],\n",
      "       [-0.51503711, -0.52013593, -0.52196618, -0.51390537],\n",
      "       [-0.51189567, -0.51447202, -0.51401004, -0.51558385]]), -0.5163652148748373)\n",
      "(array([[-0.56112112, -0.56992463, -0.56034371, -0.57013457],\n",
      "       [-0.56803804, -0.58165473, -0.56843004, -0.58234698],\n",
      "       [-0.57700122, -0.59556763, -0.57774595, -0.58046592],\n",
      "       [-0.55970891, -0.5744514 , -0.57360876, -0.56096079],\n",
      "       [-0.55723035, -0.56242648, -0.56362742, -0.55624367],\n",
      "       [-0.54918942, -0.55885386, -0.56045943, -0.54747504],\n",
      "       [-0.53319403, -0.54107789, -0.54094519, -0.53121111]]), -0.5328317175517292)\n"
     ]
    }
   ],
   "source": [
    "print(test[0])\n",
    "print(train[-1])"
   ]
  },
  {
   "cell_type": "markdown",
   "id": "76d97098",
   "metadata": {},
   "source": [
    "We can see that the data type of the train data is an array, and the data is all normalized. "
   ]
  },
  {
   "cell_type": "markdown",
   "id": "9a044545",
   "metadata": {},
   "source": [
    "## Define the LSTM and forward method"
   ]
  },
  {
   "cell_type": "markdown",
   "id": "9ee2f781",
   "metadata": {},
   "source": [
    "This is the LSTM method. The number of inputs included in the model is 4 to represent the Open, High, Low, and Close values that we are feeding into the model."
   ]
  },
  {
   "cell_type": "code",
   "execution_count": 12,
   "id": "1c9f48ec",
   "metadata": {},
   "outputs": [],
   "source": [
    "class LSTM(nn.Module):\n",
    "    def __init__(self, input_size=4, hidden_layer_size=100, output_size=1):\n",
    "        super().__init__()\n",
    "        self.hidden_layer_size = hidden_layer_size\n",
    "\n",
    "        self.lstm = nn.LSTM(input_size, hidden_layer_size)\n",
    "\n",
    "        self.linear = nn.Linear(hidden_layer_size, output_size)\n",
    "\n",
    "    def forward(self, input_seq):\n",
    "        hidden_cell = (torch.zeros(1,1,self.hidden_layer_size),\n",
    "                       torch.zeros(1,1,self.hidden_layer_size),\n",
    "                      )\n",
    "        lstm_out, hidden_cell = self.lstm(input_seq.view(len(input_seq), 1, -1), hidden_cell)\n",
    "        predictions = self.linear(lstm_out.view(len(input_seq), -1))\n",
    "        return predictions[-1]"
   ]
  },
  {
   "cell_type": "markdown",
   "id": "4eee86db",
   "metadata": {},
   "source": [
    "- `self.hidden_layer_size` stores the size of the hidden layer, in this case, defaulted to 100.\n",
    "\n",
    "- `self.lstm` initializes an LSTM layer. The LSTM takes input sequences of size input_size and outputs sequences of size hidden_layer_size.\n",
    "\n",
    "- `self.linear` initializes a fully connected linear layer. It maps the LSTM output to the desired output_size.\n",
    "\n",
    "- The `forward` method takes an input sequence and produces a prediction."
   ]
  },
  {
   "cell_type": "code",
   "execution_count": 13,
   "id": "7b8d1a0d",
   "metadata": {},
   "outputs": [],
   "source": [
    "model = LSTM()\n",
    "loss_function = nn.MSELoss()\n",
    "optimizer = torch.optim.Adam(model.parameters(), lr=0.001)"
   ]
  },
  {
   "cell_type": "markdown",
   "id": "620c9f75",
   "metadata": {},
   "source": [
    "The following method allows us to predict the values using the trained model. "
   ]
  },
  {
   "cell_type": "code",
   "execution_count": 14,
   "id": "598bd8bb",
   "metadata": {},
   "outputs": [],
   "source": [
    "model.eval()\n",
    "actual = []\n",
    "pred = []\n",
    "\n",
    "for seq, labels in test:\n",
    "    seq = torch.from_numpy(np.array(seq)).type(torch.FloatTensor)\n",
    "    labels = torch.from_numpy(np.array(labels)).type(torch.FloatTensor)\n",
    "    actual.append(labels.item())\n",
    "    with torch.no_grad():\n",
    "        pred.append(model(seq).item())\n",
    "\n",
    "actual = np.array(actual)\n",
    "pred = np.array(pred)"
   ]
  },
  {
   "cell_type": "markdown",
   "id": "46a1f913",
   "metadata": {},
   "source": [
    "Next, our aim is to convert the predicted and actual data into tensors. "
   ]
  },
  {
   "cell_type": "code",
   "execution_count": 15,
   "id": "061a35a0",
   "metadata": {},
   "outputs": [],
   "source": [
    "pred = torch.from_numpy(np.array(pred)).type(torch.Tensor)\n",
    "actual = torch.from_numpy(np.array(actual)).type(torch.Tensor)"
   ]
  },
  {
   "cell_type": "markdown",
   "id": "574f9b33",
   "metadata": {},
   "source": [
    "We can print the data to confirm that this it is formatted with the correct data type. "
   ]
  },
  {
   "cell_type": "code",
   "execution_count": 16,
   "id": "926aacb7",
   "metadata": {},
   "outputs": [
    {
     "name": "stdout",
     "output_type": "stream",
     "text": [
      "tensor([0.0566, 0.0566, 0.0564, 0.0564, 0.0565, 0.0565, 0.0565, 0.0566, 0.0566,\n",
      "        0.0565, 0.0564, 0.0564, 0.0564, 0.0564, 0.0564, 0.0565, 0.0565, 0.0565,\n",
      "        0.0565, 0.0566])\n",
      "tensor([-0.5164, -0.5254, -0.5219, -0.5201, -0.5206, -0.5253, -0.5198, -0.5110,\n",
      "        -0.5059, -0.5110, -0.5154, -0.5148, -0.5167, -0.5245, -0.5247, -0.5362,\n",
      "        -0.5432, -0.5545, -0.5318, -0.5447])\n"
     ]
    }
   ],
   "source": [
    "print(pred)\n",
    "print(actual)"
   ]
  },
  {
   "cell_type": "markdown",
   "id": "acb99621",
   "metadata": {},
   "source": [
    "There are 20 individual tensors in both the predicted and actual sets. As we recall, previously, we defined the variable \"test_set_size\" as 20 in the `create_inout_sequence` method. These values represent the predicted and actual Close Values for the last (most recent) 20 days.  \n",
    "\n",
    "Finally, to better understand and analyze the accuracy of the model's predictive values, we need to convert the normalized values into thier scalar form. "
   ]
  },
  {
   "cell_type": "code",
   "execution_count": 17,
   "id": "759b33df",
   "metadata": {},
   "outputs": [
    {
     "name": "stdout",
     "output_type": "stream",
     "text": [
      "[376.12088842 376.09744201 376.0354057  376.04339967 376.061715\n",
      " 376.08038305 376.08999899 376.09801871 376.09699919 376.08858041\n",
      " 376.04938292 376.03906928 376.04234925 376.04964552 376.03295215\n",
      " 376.05817758 376.06000293 376.07243285 376.08857913 376.1077402 ]\n"
     ]
    }
   ],
   "source": [
    "import numpy as np\n",
    "pred_new = scaler.inverse_transform(np.c_[np.zeros(20),np.zeros(20),np.zeros(20),np.array(pred)])\n",
    "print(pred_new[:,3])"
   ]
  },
  {
   "cell_type": "code",
   "execution_count": 18,
   "id": "0154fcd6",
   "metadata": {},
   "outputs": [
    {
     "name": "stdout",
     "output_type": "stream",
     "text": [
      "[178.11999474 174.99999256 176.21000958 176.81999212 176.67000924\n",
      " 175.03000149 176.94000725 179.97999249 181.71999569 179.97000324\n",
      " 178.44000078 178.65000152 178.0199993  175.2999995  175.24000223\n",
      " 171.27000783 168.84501005 164.93999725 172.77000135 168.34000729]\n"
     ]
    }
   ],
   "source": [
    "actual_new = scaler.inverse_transform(np.c_[np.zeros(20),np.zeros(20),np.zeros(20),np.array(actual)])\n",
    "print(actual_new[:,3])"
   ]
  },
  {
   "cell_type": "markdown",
   "id": "73a2378d",
   "metadata": {},
   "source": [
    "## Evaluate the model"
   ]
  },
  {
   "cell_type": "code",
   "execution_count": 19,
   "id": "35d32da8",
   "metadata": {},
   "outputs": [
    {
     "name": "stdout",
     "output_type": "stream",
     "text": [
      "Mean Absolute Error (MAE): 50.16422671840759\n",
      "Root Mean Squared Error (RMSE): 100.35019536539454\n"
     ]
    }
   ],
   "source": [
    "from sklearn.metrics import mean_absolute_error, mean_squared_error\n",
    "\n",
    "mae = mean_absolute_error(actual_new, pred_new)\n",
    "print(\"Mean Absolute Error (MAE):\", mae)\n",
    "\n",
    "rmse = np.sqrt(mean_squared_error(actual_new, pred_new))\n",
    "print(\"Root Mean Squared Error (RMSE):\", rmse)"
   ]
  },
  {
   "cell_type": "markdown",
   "id": "39360f5b",
   "metadata": {},
   "source": [
    "The model did a good job of predicting the Close Value of the stock. We can represent these values visually to see how close they are."
   ]
  },
  {
   "cell_type": "code",
   "execution_count": 20,
   "id": "7a5a5917",
   "metadata": {},
   "outputs": [
    {
     "data": {
      "image/png": "[encoded data removed]",
      "text/plain": [
       "<Figure size 640x480 with 1 Axes>"
      ]
     },
     "metadata": {},
     "output_type": "display_data"
    }
   ],
   "source": [
    "fig, ax = plt.subplots()\n",
    "\n",
    "ax.plot(actual_new[:,3], 'r-', label='Actual')\n",
    "ax.plot(pred_new[:,3], 'c-', label='Predicted')\n",
    "\n",
    "ax.set_ylabel('Stock Value (dollars)')\n",
    "\n",
    "ax.set_ylim(min(min(actual_new[:,3]), min(pred_new[:,3])) - 5, max(max(actual_new[:,3]), max(pred_new[:,3])) + 5)\n",
    "plt.xticks([])\n",
    "\n",
    "ax.legend(loc='upper left')\n",
    "\n",
    "plt.show()"
   ]
  },
  {
   "cell_type": "markdown",
   "id": "0a1061ae",
   "metadata": {},
   "source": [
    "We can also plot the difference between the Actual and Predicted value. "
   ]
  },
  {
   "cell_type": "code",
   "execution_count": 21,
   "id": "f6935727",
   "metadata": {},
   "outputs": [
    {
     "data": {
      "image/png": "[encoded data removed]",
      "text/plain": [
       "<Figure size 640x480 with 1 Axes>"
      ]
     },
     "metadata": {},
     "output_type": "display_data"
    }
   ],
   "source": [
    "difference = actual_new - pred_new\n",
    "fig = plt.figure()\n",
    "diffGraph = fig.add_axes([0,0,1,1])\n",
    "diffGraph.plot(difference[:, 3], 'b')\n",
    "diffGraph.set_ylabel('Difference between Actual and Predicted Stock Value (dollars)')\n",
    "plt.xticks([])\n",
    "plt.show()"
   ]
  },
  {
   "cell_type": "markdown",
   "id": "b2b9b980",
   "metadata": {},
   "source": [
    "From this plot, the predicted value often seems to be lower than the actual value."
   ]
  }
 ],
 "metadata": {
  "kernelspec": {
   "display_name": "base",
   "language": "python",
   "name": "python3"
  },
  "language_info": {
   "codemirror_mode": {
    "name": "ipython",
    "version": 3
   },
   "file_extension": ".py",
   "mimetype": "text/x-python",
   "name": "python",
   "nbconvert_exporter": "python",
   "pygments_lexer": "ipython3",
   "version": "3.12.4"
  }
 },
 "nbformat": 4,
 "nbformat_minor": 5
}
